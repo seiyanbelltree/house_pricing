{
 "cells": [
  {
   "cell_type": "code",
   "execution_count": 1,
   "metadata": {},
   "outputs": [],
   "source": [
    "import pandas as pd\n",
    "import numpy as np\n",
    "\n",
    "from sklearn.linear_model import Ridge\n",
    "from sklearn.model_selection import KFold\n",
    "\n",
    "from sklearn.metrics import mean_squared_log_error"
   ]
  },
  {
   "cell_type": "code",
   "execution_count": 2,
   "metadata": {},
   "outputs": [],
   "source": [
    "train = pd.read_csv('../input/train.csv')\n",
    "test = pd.read_csv('../input/test.csv')"
   ]
  },
  {
   "cell_type": "code",
   "execution_count": 3,
   "metadata": {},
   "outputs": [],
   "source": [
    "quantitative = [f for f in train.columns if train.dtypes[f] != 'object']\n",
    "quantitative.remove('SalePrice')\n",
    "quantitative.remove('Id')\n",
    "qualitative = [f for f in train.columns if train.dtypes[f] == 'object']"
   ]
  },
  {
   "cell_type": "code",
   "execution_count": 4,
   "metadata": {},
   "outputs": [],
   "source": [
    "class TargetOrderEncode:\n",
    "    def __init__(self):\n",
    "        pass\n",
    "    \n",
    "    def fit_and_transform(self, train, feature):\n",
    "        self.feature = feature\n",
    "        self.ordering = pd.DataFrame()\n",
    "        self.ordering['val'] = train[feature].unique()\n",
    "        self.ordering.index = self.ordering.val\n",
    "        self.ordering['spmean'] = train[[feature, 'SalePrice']].groupby(feature).mean()['SalePrice']\n",
    "        self.ordering = self.ordering.sort_values('spmean')\n",
    "        self.ordering['ordering'] = range(1, self.ordering.shape[0]+1)\n",
    "        self.ordering = self.ordering['ordering'].to_dict()\n",
    "\n",
    "        self.transform(train)\n",
    "\n",
    "    def transform(self, test):\n",
    "        for cat, o in self.ordering.items():\n",
    "            test.loc[test[self.feature] == cat, self.feature+'_E'] = o"
   ]
  },
  {
   "cell_type": "code",
   "execution_count": 5,
   "metadata": {},
   "outputs": [
    {
     "name": "stdout",
     "output_type": "stream",
     "text": [
      "['MSZoning_E', 'Street_E', 'Alley_E', 'LotShape_E', 'LandContour_E', 'Utilities_E', 'LotConfig_E', 'LandSlope_E', 'Neighborhood_E', 'Condition1_E', 'Condition2_E', 'BldgType_E', 'HouseStyle_E', 'RoofStyle_E', 'RoofMatl_E', 'Exterior1st_E', 'Exterior2nd_E', 'MasVnrType_E', 'ExterQual_E', 'ExterCond_E', 'Foundation_E', 'BsmtQual_E', 'BsmtCond_E', 'BsmtExposure_E', 'BsmtFinType1_E', 'BsmtFinType2_E', 'Heating_E', 'HeatingQC_E', 'CentralAir_E', 'Electrical_E', 'KitchenQual_E', 'Functional_E', 'FireplaceQu_E', 'GarageType_E', 'GarageFinish_E', 'GarageQual_E', 'GarageCond_E', 'PavedDrive_E', 'PoolQC_E', 'Fence_E', 'MiscFeature_E', 'SaleType_E', 'SaleCondition_E']\n"
     ]
    }
   ],
   "source": [
    "qual_encoded = []\n",
    "for q in qualitative:\n",
    "    encoder = TargetOrderEncode()\n",
    "    encoder.fit_and_transform(train, q)\n",
    "    encoder.transform(test)\n",
    "    qual_encoded.append(q+'_E')\n",
    "print(qual_encoded)"
   ]
  },
  {
   "cell_type": "code",
   "execution_count": 6,
   "metadata": {},
   "outputs": [],
   "source": [
    "log_features = [\n",
    "    'GrLivArea',\n",
    "    '1stFlrSF',\n",
    "    '2ndFlrSF',\n",
    "    'TotalBsmtSF',\n",
    "    'LotArea',\n",
    "    'LotFrontage',\n",
    "    'KitchenAbvGr',\n",
    "    'GarageArea'\n",
    "]\n",
    "\n",
    "quad_feats = [\n",
    "    'OverallQual',\n",
    "    'YearBuilt',\n",
    "    'YearRemodAdd',\n",
    "    'TotalBsmtSF',\n",
    "    '2ndFlrSF',\n",
    "    'Neighborhood_E',\n",
    "    'RoofMatl_E',\n",
    "    'GrLivArea'\n",
    "]\n",
    "\n",
    "qdr = [f+'2' for f in quad_feats]"
   ]
  },
  {
   "cell_type": "code",
   "execution_count": 7,
   "metadata": {},
   "outputs": [],
   "source": [
    "def log_transform(df, feature):\n",
    "    df[feature] = np.log1p(df[feature].values)\n",
    "\n",
    "def quadratic(df, feature):\n",
    "    df[feature+'2'] = df[feature]**2\n",
    "\n",
    "def bool_encode(train):\n",
    "    train['HasBasement'] = train['TotalBsmtSF'].apply(lambda x: 1 if x > 0 else 0)\n",
    "    train['HasGarage'] = train['GarageArea'].apply(lambda x: 1 if x > 0 else 0)\n",
    "    train['Has2ndFloor'] = train['2ndFlrSF'].apply(lambda x: 1 if x > 0 else 0)\n",
    "    train['HasMasVnr'] = train['MasVnrArea'].apply(lambda x: 1 if x > 0 else 0)\n",
    "    train['HasWoodDeck'] = train['WoodDeckSF'].apply(lambda x: 1 if x > 0 else 0)\n",
    "    train['HasPorch'] = train['OpenPorchSF'].apply(lambda x: 1 if x > 0 else 0)\n",
    "    train['HasPool'] = train['PoolArea'].apply(lambda x: 1 if x > 0 else 0)\n",
    "    train['IsNew'] = train['YearBuilt'].apply(lambda x: 1 if x > 2000 else 0)"
   ]
  },
  {
   "cell_type": "code",
   "execution_count": 8,
   "metadata": {},
   "outputs": [],
   "source": [
    "for f in quad_feats:\n",
    "    quadratic(train, f)\n",
    "    quadratic(test, f)\n",
    "\n",
    "for f in log_features:\n",
    "    log_transform(train, f)\n",
    "    log_transform(test, f)\n",
    "\n",
    "bool_encode(train)\n",
    "bool_encode(test)\n",
    "\n",
    "boolean = ['HasBasement', 'HasGarage', 'Has2ndFloor', 'HasMasVnr', 'HasWoodDeck',\n",
    "            'HasPorch', 'HasPool', 'IsNew']\n",
    "\n",
    "features = quantitative + qual_encoded + boolean + qdr"
   ]
  },
  {
   "cell_type": "code",
   "execution_count": 9,
   "metadata": {},
   "outputs": [],
   "source": [
    "def error(actual, predicted):\n",
    "    return np.sqrt(mean_squared_log_error(actual, predicted))"
   ]
  },
  {
   "cell_type": "code",
   "execution_count": 10,
   "metadata": {},
   "outputs": [],
   "source": [
    "kf = KFold(n_splits=5, shuffle=True, random_state=216)"
   ]
  },
  {
   "cell_type": "code",
   "execution_count": 12,
   "metadata": {},
   "outputs": [
    {
     "name": "stdout",
     "output_type": "stream",
     "text": [
      "0.11205509234113975\n",
      "0.13071949887035056\n",
      "0.1169484041791938\n",
      "0.12753968125947115\n",
      "0.11915025549134804\n"
     ]
    },
    {
     "name": "stderr",
     "output_type": "stream",
     "text": [
      "/home/ksaw/Work/kaggle/house-price/.venv/lib/python3.8/site-packages/sklearn/linear_model/_ridge.py:147: LinAlgWarning: Ill-conditioned matrix (rcond=1.05281e-16): result may not be accurate.\n",
      "  return linalg.solve(A, Xy, sym_pos=True,\n",
      "/home/ksaw/Work/kaggle/house-price/.venv/lib/python3.8/site-packages/sklearn/linear_model/_ridge.py:147: LinAlgWarning: Ill-conditioned matrix (rcond=1.00631e-16): result may not be accurate.\n",
      "  return linalg.solve(A, Xy, sym_pos=True,\n"
     ]
    }
   ],
   "source": [
    "X = train[features].fillna(0.).values\n",
    "Y = train['SalePrice'].values\n",
    "\n",
    "models = []\n",
    "Ypred = np.zeros_like(Y)\n",
    "\n",
    "for train_index, val_index in kf.split(X):\n",
    "    X_tr = X[train_index]\n",
    "    X_val = X[val_index]\n",
    "    y_tr = Y[train_index]\n",
    "    y_val = Y[val_index]\n",
    "    \n",
    "    ridge = Ridge()\n",
    "    ridge.fit(X_tr, np.log(y_tr))\n",
    "    \n",
    "    y_pred = np.exp(ridge.predict(X_val))\n",
    "    Ypred[val_index] = y_pred\n",
    "    \n",
    "    print(error(y_val, y_pred))\n",
    "    \n",
    "    models.append(ridge)"
   ]
  },
  {
   "cell_type": "code",
   "execution_count": 13,
   "metadata": {},
   "outputs": [
    {
     "data": {
      "text/plain": [
       "0.12147756793269066"
      ]
     },
     "execution_count": 13,
     "metadata": {},
     "output_type": "execute_result"
    }
   ],
   "source": [
    "error(Y, Ypred)"
   ]
  },
  {
   "cell_type": "code",
   "execution_count": 18,
   "metadata": {},
   "outputs": [],
   "source": [
    "X_test = test[features].fillna(0.).values"
   ]
  },
  {
   "cell_type": "code",
   "execution_count": 25,
   "metadata": {},
   "outputs": [],
   "source": [
    "test_preds = []\n",
    "\n",
    "for m in models:\n",
    "    test_pred = np.exp(m.predict(X_test))\n",
    "    test_preds.append(test_pred)\n",
    "\n",
    "test_preds = np.vstack(test_preds).mean(axis=0)"
   ]
  },
  {
   "cell_type": "code",
   "execution_count": 31,
   "metadata": {},
   "outputs": [],
   "source": [
    "submission = test[['Id']]"
   ]
  },
  {
   "cell_type": "code",
   "execution_count": 32,
   "metadata": {},
   "outputs": [
    {
     "name": "stderr",
     "output_type": "stream",
     "text": [
      "<ipython-input-32-6f70939a2f98>:1: SettingWithCopyWarning: \n",
      "A value is trying to be set on a copy of a slice from a DataFrame.\n",
      "Try using .loc[row_indexer,col_indexer] = value instead\n",
      "\n",
      "See the caveats in the documentation: https://pandas.pydata.org/pandas-docs/stable/user_guide/indexing.html#returning-a-view-versus-a-copy\n",
      "  submission['SalePrice'] = test_preds\n"
     ]
    }
   ],
   "source": [
    "submission['SalePrice'] = test_preds"
   ]
  },
  {
   "cell_type": "code",
   "execution_count": 33,
   "metadata": {},
   "outputs": [
    {
     "data": {
      "text/html": [
       "<div>\n",
       "<style scoped>\n",
       "    .dataframe tbody tr th:only-of-type {\n",
       "        vertical-align: middle;\n",
       "    }\n",
       "\n",
       "    .dataframe tbody tr th {\n",
       "        vertical-align: top;\n",
       "    }\n",
       "\n",
       "    .dataframe thead th {\n",
       "        text-align: right;\n",
       "    }\n",
       "</style>\n",
       "<table border=\"1\" class=\"dataframe\">\n",
       "  <thead>\n",
       "    <tr style=\"text-align: right;\">\n",
       "      <th></th>\n",
       "      <th>Id</th>\n",
       "      <th>SalePrice</th>\n",
       "    </tr>\n",
       "  </thead>\n",
       "  <tbody>\n",
       "    <tr>\n",
       "      <th>0</th>\n",
       "      <td>1461</td>\n",
       "      <td>109456.581751</td>\n",
       "    </tr>\n",
       "    <tr>\n",
       "      <th>1</th>\n",
       "      <td>1462</td>\n",
       "      <td>167049.524142</td>\n",
       "    </tr>\n",
       "    <tr>\n",
       "      <th>2</th>\n",
       "      <td>1463</td>\n",
       "      <td>177811.294942</td>\n",
       "    </tr>\n",
       "    <tr>\n",
       "      <th>3</th>\n",
       "      <td>1464</td>\n",
       "      <td>190956.779346</td>\n",
       "    </tr>\n",
       "    <tr>\n",
       "      <th>4</th>\n",
       "      <td>1465</td>\n",
       "      <td>201882.252490</td>\n",
       "    </tr>\n",
       "    <tr>\n",
       "      <th>...</th>\n",
       "      <td>...</td>\n",
       "      <td>...</td>\n",
       "    </tr>\n",
       "    <tr>\n",
       "      <th>1454</th>\n",
       "      <td>2915</td>\n",
       "      <td>90137.933924</td>\n",
       "    </tr>\n",
       "    <tr>\n",
       "      <th>1455</th>\n",
       "      <td>2916</td>\n",
       "      <td>83494.887252</td>\n",
       "    </tr>\n",
       "    <tr>\n",
       "      <th>1456</th>\n",
       "      <td>2917</td>\n",
       "      <td>171981.050210</td>\n",
       "    </tr>\n",
       "    <tr>\n",
       "      <th>1457</th>\n",
       "      <td>2918</td>\n",
       "      <td>119754.129709</td>\n",
       "    </tr>\n",
       "    <tr>\n",
       "      <th>1458</th>\n",
       "      <td>2919</td>\n",
       "      <td>222987.582764</td>\n",
       "    </tr>\n",
       "  </tbody>\n",
       "</table>\n",
       "<p>1459 rows × 2 columns</p>\n",
       "</div>"
      ],
      "text/plain": [
       "        Id      SalePrice\n",
       "0     1461  109456.581751\n",
       "1     1462  167049.524142\n",
       "2     1463  177811.294942\n",
       "3     1464  190956.779346\n",
       "4     1465  201882.252490\n",
       "...    ...            ...\n",
       "1454  2915   90137.933924\n",
       "1455  2916   83494.887252\n",
       "1456  2917  171981.050210\n",
       "1457  2918  119754.129709\n",
       "1458  2919  222987.582764\n",
       "\n",
       "[1459 rows x 2 columns]"
      ]
     },
     "execution_count": 33,
     "metadata": {},
     "output_type": "execute_result"
    }
   ],
   "source": [
    "submission"
   ]
  },
  {
   "cell_type": "code",
   "execution_count": 34,
   "metadata": {},
   "outputs": [],
   "source": [
    "submission.to_csv('../output/base_line.csv', index=False)"
   ]
  },
  {
   "cell_type": "code",
   "execution_count": null,
   "metadata": {},
   "outputs": [],
   "source": []
  }
 ],
 "metadata": {
  "kernelspec": {
   "display_name": "Python 3",
   "language": "python",
   "name": "python3"
  },
  "language_info": {
   "codemirror_mode": {
    "name": "ipython",
    "version": 3
   },
   "file_extension": ".py",
   "mimetype": "text/x-python",
   "name": "python",
   "nbconvert_exporter": "python",
   "pygments_lexer": "ipython3",
   "version": "3.8.0"
  }
 },
 "nbformat": 4,
 "nbformat_minor": 4
}
