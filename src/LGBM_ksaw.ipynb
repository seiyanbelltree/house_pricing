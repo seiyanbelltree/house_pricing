{
 "cells": [
  {
   "cell_type": "code",
   "execution_count": 1,
   "metadata": {},
   "outputs": [],
   "source": [
    "import pandas as pd\n",
    "import numpy as np\n",
    "\n",
    "from sklearn.linear_model import Ridge\n",
    "import lightgbm as lgb\n",
    "\n",
    "from sklearn.model_selection import KFold\n",
    "\n",
    "from sklearn.metrics import mean_squared_log_error"
   ]
  },
  {
   "cell_type": "code",
   "execution_count": 2,
   "metadata": {},
   "outputs": [],
   "source": [
    "train = pd.read_csv('../input/train.csv')\n",
    "test = pd.read_csv('../input/test.csv')"
   ]
  },
  {
   "cell_type": "code",
   "execution_count": 3,
   "metadata": {},
   "outputs": [],
   "source": [
    "quantitative = [f for f in train.columns if train.dtypes[f] != 'object']\n",
    "quantitative.remove('SalePrice')\n",
    "quantitative.remove('Id')\n",
    "qualitative = [f for f in train.columns if train.dtypes[f] == 'object']"
   ]
  },
  {
   "cell_type": "code",
   "execution_count": 4,
   "metadata": {},
   "outputs": [],
   "source": [
    "class TargetOrderEncode:\n",
    "    def __init__(self):\n",
    "        pass\n",
    "    \n",
    "    def fit_and_transform(self, train, feature):\n",
    "        self.feature = feature\n",
    "        self.ordering = pd.DataFrame()\n",
    "        self.ordering['val'] = train[feature].unique()\n",
    "        self.ordering.index = self.ordering.val\n",
    "        self.ordering['spmean'] = train[[feature, 'SalePrice']].groupby(feature).mean()['SalePrice']\n",
    "        self.ordering = self.ordering.sort_values('spmean')\n",
    "        self.ordering['ordering'] = range(1, self.ordering.shape[0]+1)\n",
    "        self.ordering = self.ordering['ordering'].to_dict()\n",
    "\n",
    "        self.transform(train)\n",
    "\n",
    "    def transform(self, test):\n",
    "        for cat, o in self.ordering.items():\n",
    "            test.loc[test[self.feature] == cat, self.feature+'_E'] = o"
   ]
  },
  {
   "cell_type": "code",
   "execution_count": 5,
   "metadata": {},
   "outputs": [
    {
     "name": "stdout",
     "output_type": "stream",
     "text": [
      "['MSZoning_E', 'Street_E', 'Alley_E', 'LotShape_E', 'LandContour_E', 'Utilities_E', 'LotConfig_E', 'LandSlope_E', 'Neighborhood_E', 'Condition1_E', 'Condition2_E', 'BldgType_E', 'HouseStyle_E', 'RoofStyle_E', 'RoofMatl_E', 'Exterior1st_E', 'Exterior2nd_E', 'MasVnrType_E', 'ExterQual_E', 'ExterCond_E', 'Foundation_E', 'BsmtQual_E', 'BsmtCond_E', 'BsmtExposure_E', 'BsmtFinType1_E', 'BsmtFinType2_E', 'Heating_E', 'HeatingQC_E', 'CentralAir_E', 'Electrical_E', 'KitchenQual_E', 'Functional_E', 'FireplaceQu_E', 'GarageType_E', 'GarageFinish_E', 'GarageQual_E', 'GarageCond_E', 'PavedDrive_E', 'PoolQC_E', 'Fence_E', 'MiscFeature_E', 'SaleType_E', 'SaleCondition_E']\n"
     ]
    }
   ],
   "source": [
    "qual_encoded = []\n",
    "for q in qualitative:\n",
    "    encoder = TargetOrderEncode()\n",
    "    encoder.fit_and_transform(train, q)\n",
    "    encoder.transform(test)\n",
    "    qual_encoded.append(q+'_E')\n",
    "print(qual_encoded)"
   ]
  },
  {
   "cell_type": "code",
   "execution_count": 6,
   "metadata": {},
   "outputs": [],
   "source": [
    "log_features = [\n",
    "    'GrLivArea',\n",
    "    '1stFlrSF',\n",
    "    '2ndFlrSF',\n",
    "    'TotalBsmtSF',\n",
    "    'LotArea',\n",
    "    'LotFrontage',\n",
    "    'KitchenAbvGr',\n",
    "    'GarageArea'\n",
    "]\n",
    "\n",
    "quad_feats = [\n",
    "    'OverallQual',\n",
    "    'YearBuilt',\n",
    "    'YearRemodAdd',\n",
    "    'TotalBsmtSF',\n",
    "    '2ndFlrSF',\n",
    "    'Neighborhood_E',\n",
    "    'RoofMatl_E',\n",
    "    'GrLivArea'\n",
    "]\n",
    "\n",
    "qdr = [f+'2' for f in quad_feats]"
   ]
  },
  {
   "cell_type": "code",
   "execution_count": 7,
   "metadata": {},
   "outputs": [],
   "source": [
    "def log_transform(df, feature):\n",
    "    df[feature] = np.log1p(df[feature].values)\n",
    "\n",
    "def quadratic(df, feature):\n",
    "    df[feature+'2'] = df[feature]**2\n",
    "\n",
    "def bool_encode(train):\n",
    "    train['HasBasement'] = train['TotalBsmtSF'].apply(lambda x: 1 if x > 0 else 0)\n",
    "    train['HasGarage'] = train['GarageArea'].apply(lambda x: 1 if x > 0 else 0)\n",
    "    train['Has2ndFloor'] = train['2ndFlrSF'].apply(lambda x: 1 if x > 0 else 0)\n",
    "    train['HasMasVnr'] = train['MasVnrArea'].apply(lambda x: 1 if x > 0 else 0)\n",
    "    train['HasWoodDeck'] = train['WoodDeckSF'].apply(lambda x: 1 if x > 0 else 0)\n",
    "    train['HasPorch'] = train['OpenPorchSF'].apply(lambda x: 1 if x > 0 else 0)\n",
    "    train['HasPool'] = train['PoolArea'].apply(lambda x: 1 if x > 0 else 0)\n",
    "    train['IsNew'] = train['YearBuilt'].apply(lambda x: 1 if x > 2000 else 0)"
   ]
  },
  {
   "cell_type": "code",
   "execution_count": 8,
   "metadata": {},
   "outputs": [],
   "source": [
    "for f in quad_feats:\n",
    "    quadratic(train, f)\n",
    "    quadratic(test, f)\n",
    "\n",
    "for f in log_features:\n",
    "    log_transform(train, f)\n",
    "    log_transform(test, f)\n",
    "\n",
    "bool_encode(train)\n",
    "bool_encode(test)\n",
    "\n",
    "boolean = ['HasBasement', 'HasGarage', 'Has2ndFloor', 'HasMasVnr', 'HasWoodDeck',\n",
    "            'HasPorch', 'HasPool', 'IsNew']\n",
    "\n",
    "features = quantitative + qual_encoded + boolean + qdr"
   ]
  },
  {
   "cell_type": "code",
   "execution_count": 9,
   "metadata": {},
   "outputs": [],
   "source": [
    "def error(actual, predicted):\n",
    "    return np.sqrt(mean_squared_log_error(actual, predicted))"
   ]
  },
  {
   "cell_type": "code",
   "execution_count": 10,
   "metadata": {},
   "outputs": [],
   "source": [
    "kf = KFold(n_splits=5, shuffle=True, random_state=216)"
   ]
  },
  {
   "cell_type": "markdown",
   "metadata": {},
   "source": [
    "## Ridge"
   ]
  },
  {
   "cell_type": "code",
   "execution_count": 29,
   "metadata": {},
   "outputs": [
    {
     "name": "stdout",
     "output_type": "stream",
     "text": [
      "0.11205509234113975\n",
      "0.13071949887035056\n",
      "0.1169484041791938\n",
      "0.12753968125947115\n",
      "0.11915025549134804\n"
     ]
    },
    {
     "name": "stderr",
     "output_type": "stream",
     "text": [
      "/home/ksaw/.cache/pypoetry/virtualenvs/house-price-PNXQfjFB-py3.8/lib/python3.8/site-packages/sklearn/linear_model/_ridge.py:147: LinAlgWarning: Ill-conditioned matrix (rcond=1.05281e-16): result may not be accurate.\n",
      "  return linalg.solve(A, Xy, sym_pos=True,\n",
      "/home/ksaw/.cache/pypoetry/virtualenvs/house-price-PNXQfjFB-py3.8/lib/python3.8/site-packages/sklearn/linear_model/_ridge.py:147: LinAlgWarning: Ill-conditioned matrix (rcond=1.00631e-16): result may not be accurate.\n",
      "  return linalg.solve(A, Xy, sym_pos=True,\n"
     ]
    }
   ],
   "source": [
    "X = train[features].fillna(0.).values\n",
    "Y = train['SalePrice'].values\n",
    "\n",
    "models = []\n",
    "Ypred = np.zeros_like(Y)\n",
    "\n",
    "for train_index, val_index in kf.split(X):\n",
    "    X_tr = X[train_index]\n",
    "    X_val = X[val_index]\n",
    "    y_tr = Y[train_index]\n",
    "    y_val = Y[val_index]\n",
    "    \n",
    "    ridge = Ridge()\n",
    "    ridge.fit(X_tr, np.log(y_tr))\n",
    "    \n",
    "    y_pred = np.exp(ridge.predict(X_val))\n",
    "    Ypred[val_index] = y_pred\n",
    "    \n",
    "    print(error(y_val, y_pred))\n",
    "    \n",
    "    models.append(ridge)"
   ]
  },
  {
   "cell_type": "code",
   "execution_count": 30,
   "metadata": {},
   "outputs": [
    {
     "data": {
      "text/plain": [
       "0.12147756793269066"
      ]
     },
     "execution_count": 30,
     "metadata": {},
     "output_type": "execute_result"
    }
   ],
   "source": [
    "error(Y, Ypred)"
   ]
  },
  {
   "cell_type": "code",
   "execution_count": 31,
   "metadata": {},
   "outputs": [],
   "source": [
    "submissions = pd.DataFrame()\n",
    "\n",
    "submissions['Ridge'] = Ypred"
   ]
  },
  {
   "cell_type": "markdown",
   "metadata": {},
   "source": [
    "## LGBM"
   ]
  },
  {
   "cell_type": "code",
   "execution_count": 23,
   "metadata": {},
   "outputs": [],
   "source": [
    "params = {\n",
    "    'application': 'root_mean_squared_error',\n",
    "    'boosting': 'gbdt',\n",
    "    # 'metric': 'multi_error',\n",
    "    'num_leaves': 15,\n",
    "    'max_depth': 4,\n",
    "    'learning_rate': 0.01,\n",
    "    'bagging_fraction': 0.85,\n",
    "    'feature_fraction': 0.8,\n",
    "    'min_split_gain': 0.02,\n",
    "    'min_child_samples': 150,\n",
    "    'min_child_weight': 0.02,\n",
    "    'lambda_l2': 0.01,\n",
    "    'lambda_l2': 0.01,\n",
    "    'verbosity': -1,\n",
    "    'seed': 477,\n",
    "}\n",
    "\n",
    "early_stop = 500\n",
    "verbose_eval = 100\n",
    "num_rounds = 90000\n",
    "# n_splits = 5"
   ]
  },
  {
   "cell_type": "code",
   "execution_count": 26,
   "metadata": {},
   "outputs": [
    {
     "name": "stdout",
     "output_type": "stream",
     "text": [
      "training LGB:\n",
      "Training until validation scores don't improve for 500 rounds\n",
      "[100]\ttraining's rmse: 0.236479\tvalid_1's rmse: 0.235013\n",
      "[200]\ttraining's rmse: 0.175946\tvalid_1's rmse: 0.181263\n",
      "[300]\ttraining's rmse: 0.152389\tvalid_1's rmse: 0.16197\n",
      "[400]\ttraining's rmse: 0.141204\tvalid_1's rmse: 0.153218\n",
      "[500]\ttraining's rmse: 0.135727\tvalid_1's rmse: 0.149465\n",
      "[600]\ttraining's rmse: 0.132048\tvalid_1's rmse: 0.147875\n",
      "[700]\ttraining's rmse: 0.1292\tvalid_1's rmse: 0.146976\n",
      "[800]\ttraining's rmse: 0.126768\tvalid_1's rmse: 0.146222\n",
      "[900]\ttraining's rmse: 0.124671\tvalid_1's rmse: 0.145448\n",
      "[1000]\ttraining's rmse: 0.122921\tvalid_1's rmse: 0.144948\n",
      "[1100]\ttraining's rmse: 0.121309\tvalid_1's rmse: 0.144594\n",
      "[1200]\ttraining's rmse: 0.119755\tvalid_1's rmse: 0.144005\n",
      "[1300]\ttraining's rmse: 0.118566\tvalid_1's rmse: 0.143618\n",
      "[1400]\ttraining's rmse: 0.117678\tvalid_1's rmse: 0.14332\n",
      "[1500]\ttraining's rmse: 0.117678\tvalid_1's rmse: 0.14332\n",
      "[1600]\ttraining's rmse: 0.117678\tvalid_1's rmse: 0.14332\n",
      "[1700]\ttraining's rmse: 0.117678\tvalid_1's rmse: 0.14332\n",
      "[1800]\ttraining's rmse: 0.117678\tvalid_1's rmse: 0.14332\n",
      "Early stopping, best iteration is:\n",
      "[1382]\ttraining's rmse: 0.117785\tvalid_1's rmse: 0.143319\n",
      "0.14331846599546702\n",
      "training LGB:\n",
      "Training until validation scores don't improve for 500 rounds\n",
      "[100]\ttraining's rmse: 0.23057\tvalid_1's rmse: 0.265426\n",
      "[200]\ttraining's rmse: 0.169478\tvalid_1's rmse: 0.208945\n",
      "[300]\ttraining's rmse: 0.146908\tvalid_1's rmse: 0.187968\n",
      "[400]\ttraining's rmse: 0.136098\tvalid_1's rmse: 0.177151\n",
      "[500]\ttraining's rmse: 0.130071\tvalid_1's rmse: 0.170782\n",
      "[600]\ttraining's rmse: 0.126585\tvalid_1's rmse: 0.167093\n",
      "[700]\ttraining's rmse: 0.124073\tvalid_1's rmse: 0.164674\n",
      "[800]\ttraining's rmse: 0.122051\tvalid_1's rmse: 0.162624\n",
      "[900]\ttraining's rmse: 0.120287\tvalid_1's rmse: 0.160997\n",
      "[1000]\ttraining's rmse: 0.118883\tvalid_1's rmse: 0.159845\n",
      "[1100]\ttraining's rmse: 0.118011\tvalid_1's rmse: 0.158856\n",
      "[1200]\ttraining's rmse: 0.118011\tvalid_1's rmse: 0.158856\n",
      "[1300]\ttraining's rmse: 0.118011\tvalid_1's rmse: 0.158856\n",
      "[1400]\ttraining's rmse: 0.118011\tvalid_1's rmse: 0.158856\n",
      "[1500]\ttraining's rmse: 0.118011\tvalid_1's rmse: 0.158856\n",
      "Early stopping, best iteration is:\n",
      "[1094]\ttraining's rmse: 0.118011\tvalid_1's rmse: 0.158856\n",
      "0.15885490543489653\n",
      "training LGB:\n",
      "Training until validation scores don't improve for 500 rounds\n",
      "[100]\ttraining's rmse: 0.236752\tvalid_1's rmse: 0.234951\n",
      "[200]\ttraining's rmse: 0.175529\tvalid_1's rmse: 0.179162\n",
      "[300]\ttraining's rmse: 0.152672\tvalid_1's rmse: 0.159295\n",
      "[400]\ttraining's rmse: 0.141615\tvalid_1's rmse: 0.15009\n",
      "[500]\ttraining's rmse: 0.135507\tvalid_1's rmse: 0.144717\n",
      "[600]\ttraining's rmse: 0.131582\tvalid_1's rmse: 0.141662\n",
      "[700]\ttraining's rmse: 0.128544\tvalid_1's rmse: 0.139876\n",
      "[800]\ttraining's rmse: 0.126206\tvalid_1's rmse: 0.138529\n",
      "[900]\ttraining's rmse: 0.124057\tvalid_1's rmse: 0.13738\n",
      "[1000]\ttraining's rmse: 0.122266\tvalid_1's rmse: 0.136459\n",
      "[1100]\ttraining's rmse: 0.120825\tvalid_1's rmse: 0.135612\n",
      "[1200]\ttraining's rmse: 0.119623\tvalid_1's rmse: 0.135011\n",
      "[1300]\ttraining's rmse: 0.118611\tvalid_1's rmse: 0.134529\n",
      "[1400]\ttraining's rmse: 0.118041\tvalid_1's rmse: 0.134262\n",
      "[1500]\ttraining's rmse: 0.118041\tvalid_1's rmse: 0.134262\n",
      "[1600]\ttraining's rmse: 0.118041\tvalid_1's rmse: 0.134262\n",
      "[1700]\ttraining's rmse: 0.118041\tvalid_1's rmse: 0.134262\n",
      "[1800]\ttraining's rmse: 0.118041\tvalid_1's rmse: 0.134262\n",
      "Early stopping, best iteration is:\n",
      "[1377]\ttraining's rmse: 0.118041\tvalid_1's rmse: 0.134262\n",
      "0.13426097135382759\n",
      "training LGB:\n",
      "Training until validation scores don't improve for 500 rounds\n",
      "[100]\ttraining's rmse: 0.237223\tvalid_1's rmse: 0.226736\n",
      "[200]\ttraining's rmse: 0.174833\tvalid_1's rmse: 0.174726\n",
      "[300]\ttraining's rmse: 0.150735\tvalid_1's rmse: 0.156866\n",
      "[400]\ttraining's rmse: 0.139641\tvalid_1's rmse: 0.149971\n",
      "[500]\ttraining's rmse: 0.133569\tvalid_1's rmse: 0.146878\n",
      "[600]\ttraining's rmse: 0.129684\tvalid_1's rmse: 0.144289\n",
      "[700]\ttraining's rmse: 0.126797\tvalid_1's rmse: 0.142792\n",
      "[800]\ttraining's rmse: 0.124302\tvalid_1's rmse: 0.141903\n",
      "[900]\ttraining's rmse: 0.122319\tvalid_1's rmse: 0.140826\n",
      "[1000]\ttraining's rmse: 0.120787\tvalid_1's rmse: 0.140001\n",
      "[1100]\ttraining's rmse: 0.119418\tvalid_1's rmse: 0.13939\n",
      "[1200]\ttraining's rmse: 0.11827\tvalid_1's rmse: 0.138922\n",
      "[1300]\ttraining's rmse: 0.117377\tvalid_1's rmse: 0.138633\n",
      "[1400]\ttraining's rmse: 0.117377\tvalid_1's rmse: 0.138633\n",
      "[1500]\ttraining's rmse: 0.117377\tvalid_1's rmse: 0.138633\n",
      "[1600]\ttraining's rmse: 0.117377\tvalid_1's rmse: 0.138633\n",
      "[1700]\ttraining's rmse: 0.117377\tvalid_1's rmse: 0.138633\n",
      "Early stopping, best iteration is:\n",
      "[1288]\ttraining's rmse: 0.117378\tvalid_1's rmse: 0.13863\n",
      "0.1386286686635255\n",
      "training LGB:\n",
      "Training until validation scores don't improve for 500 rounds\n",
      "[100]\ttraining's rmse: 0.237019\tvalid_1's rmse: 0.236857\n",
      "[200]\ttraining's rmse: 0.178177\tvalid_1's rmse: 0.173624\n",
      "[300]\ttraining's rmse: 0.154771\tvalid_1's rmse: 0.149188\n",
      "[400]\ttraining's rmse: 0.143234\tvalid_1's rmse: 0.139667\n",
      "[500]\ttraining's rmse: 0.136991\tvalid_1's rmse: 0.136269\n",
      "[600]\ttraining's rmse: 0.132703\tvalid_1's rmse: 0.134911\n",
      "[700]\ttraining's rmse: 0.12917\tvalid_1's rmse: 0.134183\n",
      "[800]\ttraining's rmse: 0.126529\tvalid_1's rmse: 0.133743\n",
      "[900]\ttraining's rmse: 0.12419\tvalid_1's rmse: 0.133401\n",
      "[1000]\ttraining's rmse: 0.122127\tvalid_1's rmse: 0.133158\n",
      "[1100]\ttraining's rmse: 0.120491\tvalid_1's rmse: 0.133209\n",
      "[1200]\ttraining's rmse: 0.118985\tvalid_1's rmse: 0.133258\n",
      "[1300]\ttraining's rmse: 0.117776\tvalid_1's rmse: 0.133406\n",
      "[1400]\ttraining's rmse: 0.116719\tvalid_1's rmse: 0.133539\n",
      "[1500]\ttraining's rmse: 0.116494\tvalid_1's rmse: 0.133593\n",
      "Early stopping, best iteration is:\n",
      "[1003]\ttraining's rmse: 0.122082\tvalid_1's rmse: 0.133138\n",
      "0.1331371807683569\n"
     ]
    }
   ],
   "source": [
    "X = train[features].values\n",
    "Y = train['SalePrice'].values\n",
    "\n",
    "models = []\n",
    "Ypred = np.zeros_like(Y)\n",
    "\n",
    "for i, (train_index, val_index) in enumerate(kf.split(X)):\n",
    "    X_tr = X[train_index]\n",
    "    X_val = X[val_index]\n",
    "    y_tr = Y[train_index]\n",
    "    y_val = Y[val_index]\n",
    "    \n",
    "    d_train = lgb.Dataset(X_tr, label=np.log(y_tr))\n",
    "    d_valid = lgb.Dataset(X_val, label=np.log(y_val))\n",
    "    watchlist = [d_train, d_valid]\n",
    "    \n",
    "    print('training LGB:')\n",
    "    model = lgb.train(\n",
    "        params,\n",
    "        train_set=d_train,\n",
    "        num_boost_round=num_rounds,\n",
    "        valid_sets=watchlist,\n",
    "        verbose_eval=verbose_eval,\n",
    "        early_stopping_rounds=early_stop\n",
    "    )\n",
    "    \n",
    "    y_pred = np.exp(model.predict(X_val, num_iteration=model.best_iteration))\n",
    "    Ypred[val_index] = y_pred\n",
    "    \n",
    "    print(error(y_val, y_pred))\n",
    "    \n",
    "    models.append(model)"
   ]
  },
  {
   "cell_type": "code",
   "execution_count": 28,
   "metadata": {},
   "outputs": [
    {
     "data": {
      "text/plain": [
       "0.14194676794700326"
      ]
     },
     "execution_count": 28,
     "metadata": {},
     "output_type": "execute_result"
    }
   ],
   "source": [
    "error(Y, Ypred)"
   ]
  },
  {
   "cell_type": "code",
   "execution_count": 32,
   "metadata": {},
   "outputs": [],
   "source": [
    "submissions['LGBM'] = Ypred"
   ]
  },
  {
   "cell_type": "markdown",
   "metadata": {},
   "source": [
    "## モデルの相関"
   ]
  },
  {
   "cell_type": "code",
   "execution_count": 35,
   "metadata": {},
   "outputs": [],
   "source": [
    "import seaborn as sns"
   ]
  },
  {
   "cell_type": "code",
   "execution_count": 36,
   "metadata": {},
   "outputs": [
    {
     "data": {
      "text/plain": [
       "<AxesSubplot:>"
      ]
     },
     "execution_count": 36,
     "metadata": {},
     "output_type": "execute_result"
    },
    {
     "data": {
      "image/png": "[encoded data removed]",
      "text/plain": [
       "<Figure size 432x288 with 2 Axes>"
      ]
     },
     "metadata": {
      "needs_background": "light"
     },
     "output_type": "display_data"
    }
   ],
   "source": [
    "corr = submissions.corr()\n",
    "sns.heatmap(corr)"
   ]
  },
  {
   "cell_type": "markdown",
   "metadata": {},
   "source": [
    "## Submission"
   ]
  },
  {
   "cell_type": "code",
   "execution_count": null,
   "metadata": {},
   "outputs": [],
   "source": [
    "X_test = test[features].fillna(0.).values"
   ]
  },
  {
   "cell_type": "code",
   "execution_count": null,
   "metadata": {},
   "outputs": [],
   "source": [
    "test_preds = []\n",
    "\n",
    "for m in models:\n",
    "    test_pred = np.exp(m.predict(X_test))\n",
    "    test_preds.append(test_pred)\n",
    "\n",
    "test_preds = np.vstack(test_preds).mean(axis=0)"
   ]
  },
  {
   "cell_type": "code",
   "execution_count": null,
   "metadata": {},
   "outputs": [],
   "source": [
    "submission = test[['Id']]"
   ]
  },
  {
   "cell_type": "code",
   "execution_count": null,
   "metadata": {},
   "outputs": [],
   "source": [
    "submission['SalePrice'] = test_preds"
   ]
  },
  {
   "cell_type": "code",
   "execution_count": null,
   "metadata": {},
   "outputs": [],
   "source": [
    "submission"
   ]
  },
  {
   "cell_type": "code",
   "execution_count": null,
   "metadata": {},
   "outputs": [],
   "source": [
    "submission.to_csv('../output/base_line.csv', index=False)"
   ]
  },
  {
   "cell_type": "code",
   "execution_count": null,
   "metadata": {},
   "outputs": [],
   "source": []
  }
 ],
 "metadata": {
  "kernelspec": {
   "display_name": "Python 3",
   "language": "python",
   "name": "python3"
  },
  "language_info": {
   "codemirror_mode": {
    "name": "ipython",
    "version": 3
   },
   "file_extension": ".py",
   "mimetype": "text/x-python",
   "name": "python",
   "nbconvert_exporter": "python",
   "pygments_lexer": "ipython3",
   "version": "3.8.2"
  }
 },
 "nbformat": 4,
 "nbformat_minor": 4
}
